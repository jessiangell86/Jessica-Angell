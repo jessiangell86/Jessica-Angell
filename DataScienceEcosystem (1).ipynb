{
 "cells": [
  {
   "cell_type": "markdown",
   "id": "0cd90562-8b32-4f88-805f-95880654d278",
   "metadata": {},
   "source": [
    "# Data Science Tools and Ecosystem"
   ]
  },
  {
   "cell_type": "markdown",
   "id": "55133986-602e-4e57-a9e3-a658f309d7ee",
   "metadata": {},
   "source": [
    "## In this notebook, Data Science Tools and Ecosystem are summarized."
   ]
  },
  {
   "cell_type": "markdown",
   "id": "ef0d6270-d0f3-466b-a07e-ea2e04535563",
   "metadata": {},
   "source": [
    "#### Objectives:\n",
    "1. List popular languages for Data Science\n",
    "2. List commonly used libraries\n",
    "3. Evaluate arithmetic expressions"
   ]
  },
  {
   "cell_type": "markdown",
   "id": "cee9e135-bfca-4a56-8c18-37bf2712cd35",
   "metadata": {},
   "source": [
    "### Some of the popular languages that Data Scientists use are:\n",
    "1. Python\n",
    "2. Java\n",
    "3. C++\n",
    "4. C"
   ]
  },
  {
   "cell_type": "markdown",
   "id": "40b032da-cab0-47a8-be12-97b5c7bf4f7b",
   "metadata": {
    "jp-MarkdownHeadingCollapsed": true
   },
   "source": [
    "### Some of the commonly used libraries used by Data Scientists include:\n",
    "1. Pandas\n",
    "2. NumPy\n",
    "3. Scikit-learn"
   ]
  },
  {
   "cell_type": "markdown",
   "id": "ae683c04-7576-435e-85ca-5b53b25a67c1",
   "metadata": {},
   "source": [
    "Data Science Tools\n",
    "------\n",
    "|Jupyter Notebook / JupyterLab|\n",
    "|RStudio|\n",
    "|Visual Studio Code|"
   ]
  },
  {
   "cell_type": "markdown",
   "id": "1135ea2f-ad97-4a6c-9549-33b93e922d5c",
   "metadata": {},
   "source": [
    "|Data Science Tools|\n",
    "|------|\n",
    "|Jupyter Notebook / JupyterLab|\n",
    "|RStudio|\n",
    "|Visual Studio|"
   ]
  },
  {
   "cell_type": "markdown",
   "id": "691f3d5b-04a1-4929-8e72-39500fec1008",
   "metadata": {},
   "source": [
    "### Below are a few examples of evaluating arithmetic expressions in Python"
   ]
  },
  {
   "cell_type": "code",
   "execution_count": 1,
   "id": "92a32fa5-e6fe-4da6-8128-6216d0c85526",
   "metadata": {},
   "outputs": [
    {
     "data": {
      "text/plain": [
       "17"
      ]
     },
     "execution_count": 1,
     "metadata": {},
     "output_type": "execute_result"
    }
   ],
   "source": [
    "# This a simple arithmetic expression to multiply then add integers\n",
    "(3*4)+5\n"
   ]
  },
  {
   "cell_type": "code",
   "execution_count": 2,
   "id": "5ecaa1ed-b297-460b-84fb-80484e2e3f5d",
   "metadata": {},
   "outputs": [
    {
     "data": {
      "text/plain": [
       "3.3333333333333335"
      ]
     },
     "execution_count": 2,
     "metadata": {},
     "output_type": "execute_result"
    }
   ],
   "source": [
    "# This will convert 200 minutes to hours by dividing by 60\n",
    "200/60"
   ]
  },
  {
   "cell_type": "markdown",
   "id": "98c36cf7-5c3a-4efa-99ab-0301e68091cb",
   "metadata": {},
   "source": [
    "## Author\n",
    "Jessica Angell"
   ]
  },
  {
   "cell_type": "code",
   "execution_count": null,
   "id": "be7abf9d-59bd-4f50-ae40-830efcfa66e9",
   "metadata": {},
   "outputs": [],
   "source": []
  }
 ],
 "metadata": {
  "kernelspec": {
   "display_name": "Python 3 (ipykernel)",
   "language": "python",
   "name": "python3"
  },
  "language_info": {
   "codemirror_mode": {
    "name": "ipython",
    "version": 3
   },
   "file_extension": ".py",
   "mimetype": "text/x-python",
   "name": "python",
   "nbconvert_exporter": "python",
   "pygments_lexer": "ipython3",
   "version": "3.12.8"
  }
 },
 "nbformat": 4,
 "nbformat_minor": 5
}
